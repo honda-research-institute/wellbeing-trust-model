{
 "cells": [
  {
   "cell_type": "code",
   "execution_count": 95,
   "metadata": {
    "collapsed": true
   },
   "outputs": [],
   "source": [
    "import numpy as np\n",
    "import pandas as pd"
   ]
  },
  {
   "cell_type": "code",
   "execution_count": 104,
   "outputs": [
    {
     "ename": "ImportError",
     "evalue": "cannot import name 'make_df_participant_based' from 'data_preprocessing' (/home/zzahedi/project-wellbeing/data_preprocessing.py)",
     "output_type": "error",
     "traceback": [
      "\u001B[0;31m---------------------------------------------------------------------------\u001B[0m",
      "\u001B[0;31mImportError\u001B[0m                               Traceback (most recent call last)",
      "Cell \u001B[0;32mIn[104], line 2\u001B[0m\n\u001B[1;32m      1\u001B[0m \u001B[38;5;28;01mfrom\u001B[39;00m \u001B[38;5;21;01mdata_preprocessing\u001B[39;00m \u001B[38;5;28;01mimport\u001B[39;00m \u001B[38;5;241m*\u001B[39m\n\u001B[0;32m----> 2\u001B[0m \u001B[38;5;28;01mfrom\u001B[39;00m \u001B[38;5;21;01mdata_preprocessing\u001B[39;00m \u001B[38;5;28;01mimport\u001B[39;00m make_df_participant_based\n\u001B[1;32m      3\u001B[0m folder_path \u001B[38;5;241m=\u001B[39m \u001B[38;5;124m'\u001B[39m\u001B[38;5;124m./Prolific/data_all/\u001B[39m\u001B[38;5;124m'\u001B[39m\n\u001B[1;32m      4\u001B[0m main_survey_df \u001B[38;5;241m=\u001B[39m get_main_survey_data(folder_path)\n",
      "\u001B[0;31mImportError\u001B[0m: cannot import name 'make_df_participant_based' from 'data_preprocessing' (/home/zzahedi/project-wellbeing/data_preprocessing.py)"
     ]
    }
   ],
   "source": [
    "from data_preprocessing import *\n",
    "from data_preprocessing import make_df_participant_based\n",
    "folder_path = './Prolific/data_all/'\n",
    "main_survey_df = get_main_survey_data(folder_path)\n",
    "post_survey_df = get_post_survey_filter_only(folder_path)\n",
    "main_survey_done_df = main_survey_done_study(main_survey_df,post_survey_df)\n",
    "mean_wellbeing_robot(main_survey_done_df)\n",
    "mean_wellbeing_scooter(main_survey_done_df)"
   ],
   "metadata": {
    "collapsed": false
   }
  },
  {
   "cell_type": "code",
   "execution_count": 84,
   "outputs": [
    {
     "name": "stdout",
     "output_type": "stream",
     "text": [
      "208 208\n"
     ]
    }
   ],
   "source": [
    "a0 = main_survey_done_df['drive_name'].str[3]\n",
    "ow0 = main_survey_done_df['1_total']\n",
    "oa0 = main_survey_done_df['drive_name'].str[2]\n",
    "df = pd.concat([a0, oa0, ow0], axis=1)\n",
    "col = [\"a_0\", \"oa_0\", \"ow_0\"]\n",
    "df.columns = col\n",
    "for i in col:\n",
    "    df[i] = pd.to_numeric(df[i])\n",
    "\n",
    "print((df.iloc[0:414,:]['a_0'] == 1).sum(), (df.iloc[0:414,:]['oa_0'] == 1).sum())\n",
    "# print(df_bn['a_0'], df_bn['oa_0'], df_bn['ow_1'])\n",
    "# print(df_bn['w_1'], df_bn['ow_1'])"
   ],
   "metadata": {
    "collapsed": false
   }
  },
  {
   "cell_type": "code",
   "execution_count": 4,
   "outputs": [
    {
     "data": {
      "text/plain": "     a_0  oa_0      ow_0\n0      1     1  3.428571\n1      0     0  4.000000\n2      1     1  7.000000\n3      0     1  6.571429\n4      1     0  4.000000\n..   ...   ...       ...\n596    0     1  4.571429\n597    1     1  4.142857\n598    1     0  6.857143\n599    0     0  3.285714\n600    0     0  3.285714\n\n[597 rows x 3 columns]",
      "text/html": "<div>\n<style scoped>\n    .dataframe tbody tr th:only-of-type {\n        vertical-align: middle;\n    }\n\n    .dataframe tbody tr th {\n        vertical-align: top;\n    }\n\n    .dataframe thead th {\n        text-align: right;\n    }\n</style>\n<table border=\"1\" class=\"dataframe\">\n  <thead>\n    <tr style=\"text-align: right;\">\n      <th></th>\n      <th>a_0</th>\n      <th>oa_0</th>\n      <th>ow_0</th>\n    </tr>\n  </thead>\n  <tbody>\n    <tr>\n      <th>0</th>\n      <td>1</td>\n      <td>1</td>\n      <td>3.428571</td>\n    </tr>\n    <tr>\n      <th>1</th>\n      <td>0</td>\n      <td>0</td>\n      <td>4.000000</td>\n    </tr>\n    <tr>\n      <th>2</th>\n      <td>1</td>\n      <td>1</td>\n      <td>7.000000</td>\n    </tr>\n    <tr>\n      <th>3</th>\n      <td>0</td>\n      <td>1</td>\n      <td>6.571429</td>\n    </tr>\n    <tr>\n      <th>4</th>\n      <td>1</td>\n      <td>0</td>\n      <td>4.000000</td>\n    </tr>\n    <tr>\n      <th>...</th>\n      <td>...</td>\n      <td>...</td>\n      <td>...</td>\n    </tr>\n    <tr>\n      <th>596</th>\n      <td>0</td>\n      <td>1</td>\n      <td>4.571429</td>\n    </tr>\n    <tr>\n      <th>597</th>\n      <td>1</td>\n      <td>1</td>\n      <td>4.142857</td>\n    </tr>\n    <tr>\n      <th>598</th>\n      <td>1</td>\n      <td>0</td>\n      <td>6.857143</td>\n    </tr>\n    <tr>\n      <th>599</th>\n      <td>0</td>\n      <td>0</td>\n      <td>3.285714</td>\n    </tr>\n    <tr>\n      <th>600</th>\n      <td>0</td>\n      <td>0</td>\n      <td>3.285714</td>\n    </tr>\n  </tbody>\n</table>\n<p>597 rows × 3 columns</p>\n</div>"
     },
     "execution_count": 4,
     "metadata": {},
     "output_type": "execute_result"
    }
   ],
   "source": [
    "df"
   ],
   "metadata": {
    "collapsed": false
   }
  },
  {
   "cell_type": "code",
   "execution_count": 9,
   "outputs": [
    {
     "name": "stdout",
     "output_type": "stream",
     "text": [
      "The largest slice where the number of 1's in both columns are equal is from index 0 to 414.\n"
     ]
    }
   ],
   "source": [
    "df['diff'] = df['a_0'] - df['oa_0']\n",
    "\n",
    "# compute the cumulative sum of the diff column\n",
    "indices = []\n",
    "for i in range(len(df)):\n",
    "    num_ones_col1 = df['a_0'].iloc[:i+1].sum()\n",
    "    num_ones_col2 = df['oa_0'].iloc[:i+1].sum()\n",
    "    if num_ones_col1 == num_ones_col2:\n",
    "        indices.append(i)\n",
    "\n",
    "# find the largest slice where the number of 1's in both columns are equal\n",
    "max_slice = (0, 0)\n",
    "for i in range(len(indices)):\n",
    "    for j in range(i+1, len(indices)):\n",
    "        start, end = indices[i], indices[j]\n",
    "        num_ones_col1 = df['a_0'].iloc[start:end+1].sum()\n",
    "        num_ones_col2 = df['oa_0'].iloc[start:end+1].sum()\n",
    "        if num_ones_col1 == num_ones_col2 and end-start > max_slice[1]-max_slice[0]:\n",
    "            max_slice = (start, end)\n",
    "\n",
    "# print the largest slice where the number of 1's in both columns are equal\n",
    "print(f\"The largest slice where the number of 1's in both columns are equal is from index {max_slice[0]} to {max_slice[1]}.\")"
   ],
   "metadata": {
    "collapsed": false
   }
  },
  {
   "cell_type": "code",
   "execution_count": 11,
   "outputs": [
    {
     "name": "stdout",
     "output_type": "stream",
     "text": [
      "Slices where the number of 1's in both columns are equal:\n",
      "From index 0 to 414\n",
      "From index 0 to 413\n",
      "From index 1 to 414\n",
      "From index 1 to 413\n",
      "From index 2 to 414\n",
      "From index 0 to 411\n",
      "From index 2 to 413\n",
      "From index 0 to 410\n",
      "From index 1 to 411\n",
      "From index 0 to 409\n",
      "From index 1 to 410\n",
      "From index 2 to 411\n",
      "From index 0 to 408\n",
      "From index 1 to 409\n",
      "From index 2 to 410\n",
      "From index 0 to 407\n",
      "From index 1 to 408\n",
      "From index 2 to 409\n",
      "From index 1 to 407\n",
      "From index 2 to 408\n",
      "From index 2 to 407\n",
      "From index 48 to 414\n",
      "From index 48 to 413\n",
      "From index 48 to 411\n",
      "From index 48 to 410\n",
      "From index 48 to 409\n",
      "From index 48 to 408\n",
      "From index 48 to 407\n",
      "From index 66 to 414\n",
      "From index 66 to 413\n",
      "From index 67 to 414\n",
      "From index 67 to 413\n",
      "From index 66 to 411\n",
      "From index 66 to 410\n",
      "From index 67 to 411\n",
      "From index 66 to 409\n",
      "From index 67 to 410\n",
      "From index 66 to 408\n",
      "From index 67 to 409\n",
      "From index 66 to 407\n",
      "From index 67 to 408\n",
      "From index 67 to 407\n",
      "From index 169 to 414\n",
      "From index 169 to 413\n",
      "From index 169 to 411\n",
      "From index 169 to 410\n",
      "From index 169 to 409\n",
      "From index 169 to 408\n",
      "From index 169 to 407\n",
      "From index 0 to 216\n",
      "From index 198 to 414\n",
      "From index 0 to 215\n",
      "From index 1 to 216\n",
      "From index 198 to 413\n",
      "From index 1 to 215\n",
      "From index 2 to 216\n",
      "From index 2 to 215\n",
      "From index 198 to 411\n",
      "From index 201 to 414\n",
      "From index 198 to 410\n",
      "From index 201 to 413\n",
      "From index 198 to 409\n",
      "From index 198 to 408\n",
      "From index 201 to 411\n",
      "From index 198 to 407\n",
      "From index 201 to 410\n",
      "From index 201 to 409\n",
      "From index 201 to 408\n",
      "From index 201 to 407\n",
      "From index 0 to 201\n",
      "From index 0 to 200\n",
      "From index 1 to 201\n",
      "From index 1 to 200\n",
      "From index 2 to 201\n",
      "From index 0 to 198\n",
      "From index 2 to 200\n",
      "From index 216 to 414\n",
      "From index 0 to 197\n",
      "From index 1 to 198\n",
      "From index 216 to 413\n",
      "From index 1 to 197\n",
      "From index 2 to 198\n",
      "From index 2 to 197\n",
      "From index 216 to 411\n",
      "From index 216 to 410\n",
      "From index 216 to 409\n",
      "From index 216 to 408\n",
      "From index 216 to 407\n",
      "From index 0 to 187\n",
      "From index 1 to 187\n",
      "From index 2 to 187\n",
      "From index 0 to 183\n",
      "From index 1 to 183\n",
      "From index 2 to 183\n",
      "From index 0 to 169\n",
      "From index 0 to 168\n",
      "From index 1 to 169\n",
      "From index 48 to 216\n",
      "From index 1 to 168\n",
      "From index 2 to 169\n",
      "From index 48 to 215\n",
      "From index 2 to 168\n",
      "From index 0 to 164\n",
      "From index 1 to 164\n",
      "From index 2 to 164\n",
      "From index 48 to 201\n",
      "From index 48 to 200\n",
      "From index 48 to 198\n",
      "From index 66 to 216\n",
      "From index 48 to 197\n",
      "From index 66 to 215\n",
      "From index 67 to 216\n",
      "From index 67 to 215\n",
      "From index 48 to 187\n",
      "From index 48 to 183\n",
      "From index 66 to 201\n",
      "From index 66 to 200\n",
      "From index 67 to 201\n",
      "From index 67 to 200\n",
      "From index 66 to 198\n",
      "From index 66 to 197\n",
      "From index 67 to 198\n",
      "From index 67 to 197\n",
      "From index 48 to 169\n",
      "From index 66 to 187\n",
      "From index 48 to 168\n",
      "From index 67 to 187\n",
      "From index 66 to 183\n",
      "From index 48 to 164\n",
      "From index 67 to 183\n",
      "From index 66 to 169\n",
      "From index 66 to 168\n",
      "From index 67 to 169\n",
      "From index 67 to 168\n",
      "From index 66 to 164\n",
      "From index 67 to 164\n",
      "From index 0 to 67\n",
      "From index 0 to 66\n",
      "From index 1 to 67\n",
      "From index 0 to 65\n",
      "From index 1 to 66\n",
      "From index 2 to 67\n",
      "From index 1 to 65\n",
      "From index 2 to 66\n",
      "From index 0 to 63\n",
      "From index 2 to 65\n",
      "From index 1 to 63\n",
      "From index 2 to 63\n",
      "From index 0 to 59\n",
      "From index 1 to 59\n",
      "From index 2 to 59\n",
      "From index 0 to 52\n",
      "From index 1 to 52\n",
      "From index 2 to 52\n",
      "From index 0 to 48\n",
      "From index 0 to 47\n",
      "From index 1 to 48\n",
      "From index 169 to 216\n",
      "From index 1 to 47\n",
      "From index 2 to 48\n",
      "From index 169 to 215\n",
      "From index 2 to 47\n",
      "From index 169 to 201\n",
      "From index 169 to 200\n",
      "From index 169 to 198\n",
      "From index 169 to 197\n",
      "From index 48 to 67\n",
      "From index 48 to 66\n",
      "From index 169 to 187\n",
      "From index 198 to 216\n",
      "From index 48 to 65\n",
      "From index 198 to 215\n",
      "From index 48 to 63\n",
      "From index 201 to 216\n",
      "From index 169 to 183\n",
      "From index 201 to 215\n",
      "From index 48 to 59\n",
      "From index 408 to 414\n",
      "From index 408 to 413\n",
      "From index 409 to 414\n",
      "From index 0 to 4\n",
      "From index 48 to 52\n",
      "From index 409 to 413\n",
      "From index 410 to 414\n",
      "From index 1 to 4\n",
      "From index 198 to 201\n",
      "From index 408 to 411\n",
      "From index 410 to 413\n",
      "From index 411 to 414\n",
      "From index 0 to 2\n",
      "From index 2 to 4\n",
      "From index 198 to 200\n",
      "From index 408 to 410\n",
      "From index 409 to 411\n",
      "From index 411 to 413\n",
      "From index 0 to 1\n",
      "From index 1 to 2\n",
      "From index 66 to 67\n",
      "From index 408 to 409\n",
      "From index 409 to 410\n",
      "From index 410 to 411\n"
     ]
    }
   ],
   "source": [
    "indices = []\n",
    "for i in range(len(df)):\n",
    "    num_ones_col1 = df['a_0'].iloc[:i+1].sum()\n",
    "    num_ones_col2 = df['oa_0'].iloc[:i+1].sum()\n",
    "    if num_ones_col1 == num_ones_col2:\n",
    "        indices.append(i)\n",
    "\n",
    "# loop through all possible slices and print the ones where the number of 1's in both columns are equal\n",
    "slices = []\n",
    "for i in range(len(indices)):\n",
    "    for j in range(i+1, len(indices)):\n",
    "        start, end = indices[i], indices[j]\n",
    "        num_ones_col1 = df['a_0'].iloc[start:end+1].sum()\n",
    "        num_ones_col2 = df['oa_0'].iloc[start:end+1].sum()\n",
    "        if num_ones_col1 == num_ones_col2:\n",
    "            slices.append((start, end))\n",
    "\n",
    "# sort the slices by size (largest to smallest)\n",
    "slices.sort(key=lambda x: x[1]-x[0], reverse=True)\n",
    "\n",
    "# print the slices\n",
    "print(\"Slices where the number of 1's in both columns are equal:\")\n",
    "for slice in slices:\n",
    "    print(f\"From index {slice[0]} to {slice[1]}\")"
   ],
   "metadata": {
    "collapsed": false
   }
  },
  {
   "cell_type": "code",
   "execution_count": 85,
   "outputs": [
    {
     "name": "stderr",
     "output_type": "stream",
     "text": [
      "/tmp/ipykernel_12573/4283648047.py:2: SettingWithCopyWarning: \n",
      "A value is trying to be set on a copy of a slice from a DataFrame.\n",
      "Try using .loc[row_indexer,col_indexer] = value instead\n",
      "\n",
      "See the caveats in the documentation: https://pandas.pydata.org/pandas-docs/stable/user_guide/indexing.html#returning-a-view-versus-a-copy\n",
      "  df1['reordered_ow'] = np.nan\n",
      "/home/zzahedi/project-wellbeing/envpgmpy/lib/python3.8/site-packages/pandas/core/indexing.py:1773: SettingWithCopyWarning: \n",
      "A value is trying to be set on a copy of a slice from a DataFrame.\n",
      "Try using .loc[row_indexer,col_indexer] = value instead\n",
      "\n",
      "See the caveats in the documentation: https://pandas.pydata.org/pandas-docs/stable/user_guide/indexing.html#returning-a-view-versus-a-copy\n",
      "  self._setitem_single_column(ilocs[0], value, pi)\n"
     ]
    }
   ],
   "source": [
    "df1 = df.iloc[0:414,:]\n",
    "df1['reordered_ow'] = np.nan\n",
    "\n",
    "# extract values where col2 is 1 and col1 is 1, assign to appropriate indices in new column\n",
    "df1.loc[(df['oa_0'] == 1) & (df1['a_0'] == 1), 'reordered_ow'] = df1.loc[(df1['oa_0'] == 1) & (df1['a_0'] == 1), 'ow_0'].values\n",
    "\n",
    "# extract values where col2 is 1 and col1 is 0, assign to appropriate indices in new column\n",
    "df1.loc[(df1['oa_0'] == 1) & (df1['a_0'] == 0), 'reordered_ow'] = df1.loc[(df1['oa_0'] == 0) & (df1['a_0'] == 1), 'ow_0'].values\n",
    "\n",
    "# extract values where col2 is 0 and col1 is 0, assign to appropriate indices in new column\n",
    "df1.loc[(df1['oa_0'] == 0) & (df1['a_0'] == 0), 'reordered_ow'] = df1.loc[(df1['oa_0'] == 0) & (df1['a_0'] == 0), 'ow_0'].values\n",
    "\n",
    "# extract values where col2 is 0 and col1 is 1, assign to appropriate indices in new column\n",
    "df1.loc[(df1['oa_0'] == 0) & (df1['a_0'] == 1), 'reordered_ow'] = df1.loc[(df1['oa_0'] == 1) & (df1['a_0'] == 0), 'ow_0'].values\n",
    "\n"
   ],
   "metadata": {
    "collapsed": false
   }
  },
  {
   "cell_type": "code",
   "execution_count": 86,
   "outputs": [
    {
     "data": {
      "text/plain": "     a_0  oa_0      ow_0  reordered_ow\n0      1     1  3.428571      3.428571\n1      0     0  4.000000      4.000000\n2      1     1  7.000000      7.000000\n3      0     1  6.571429      4.000000\n4      1     0  4.000000      6.571429\n..   ...   ...       ...           ...\n411    0     0  3.142857      3.142857\n412    0     0  4.285714      4.285714\n413    0     0  4.714286      4.714286\n414    0     1  5.714286      5.428571\n415    1     0  5.428571      5.714286\n\n[414 rows x 4 columns]",
      "text/html": "<div>\n<style scoped>\n    .dataframe tbody tr th:only-of-type {\n        vertical-align: middle;\n    }\n\n    .dataframe tbody tr th {\n        vertical-align: top;\n    }\n\n    .dataframe thead th {\n        text-align: right;\n    }\n</style>\n<table border=\"1\" class=\"dataframe\">\n  <thead>\n    <tr style=\"text-align: right;\">\n      <th></th>\n      <th>a_0</th>\n      <th>oa_0</th>\n      <th>ow_0</th>\n      <th>reordered_ow</th>\n    </tr>\n  </thead>\n  <tbody>\n    <tr>\n      <th>0</th>\n      <td>1</td>\n      <td>1</td>\n      <td>3.428571</td>\n      <td>3.428571</td>\n    </tr>\n    <tr>\n      <th>1</th>\n      <td>0</td>\n      <td>0</td>\n      <td>4.000000</td>\n      <td>4.000000</td>\n    </tr>\n    <tr>\n      <th>2</th>\n      <td>1</td>\n      <td>1</td>\n      <td>7.000000</td>\n      <td>7.000000</td>\n    </tr>\n    <tr>\n      <th>3</th>\n      <td>0</td>\n      <td>1</td>\n      <td>6.571429</td>\n      <td>4.000000</td>\n    </tr>\n    <tr>\n      <th>4</th>\n      <td>1</td>\n      <td>0</td>\n      <td>4.000000</td>\n      <td>6.571429</td>\n    </tr>\n    <tr>\n      <th>...</th>\n      <td>...</td>\n      <td>...</td>\n      <td>...</td>\n      <td>...</td>\n    </tr>\n    <tr>\n      <th>411</th>\n      <td>0</td>\n      <td>0</td>\n      <td>3.142857</td>\n      <td>3.142857</td>\n    </tr>\n    <tr>\n      <th>412</th>\n      <td>0</td>\n      <td>0</td>\n      <td>4.285714</td>\n      <td>4.285714</td>\n    </tr>\n    <tr>\n      <th>413</th>\n      <td>0</td>\n      <td>0</td>\n      <td>4.714286</td>\n      <td>4.714286</td>\n    </tr>\n    <tr>\n      <th>414</th>\n      <td>0</td>\n      <td>1</td>\n      <td>5.714286</td>\n      <td>5.428571</td>\n    </tr>\n    <tr>\n      <th>415</th>\n      <td>1</td>\n      <td>0</td>\n      <td>5.428571</td>\n      <td>5.714286</td>\n    </tr>\n  </tbody>\n</table>\n<p>414 rows × 4 columns</p>\n</div>"
     },
     "execution_count": 86,
     "metadata": {},
     "output_type": "execute_result"
    }
   ],
   "source": [
    "df1"
   ],
   "metadata": {
    "collapsed": false
   }
  },
  {
   "cell_type": "code",
   "execution_count": 89,
   "outputs": [],
   "source": [
    "\n",
    "df_new = pd.concat([df1, df.iloc[414:601,:]], axis = 0)"
   ],
   "metadata": {
    "collapsed": false
   }
  },
  {
   "cell_type": "code",
   "execution_count": 90,
   "outputs": [
    {
     "data": {
      "text/plain": "     a_0  oa_0      ow_0  reordered_ow\n0      1     1  3.428571      3.428571\n1      0     0  4.000000      4.000000\n2      1     1  7.000000      7.000000\n3      0     1  6.571429      4.000000\n4      1     0  4.000000      6.571429\n..   ...   ...       ...           ...\n596    0     1  4.571429           NaN\n597    1     1  4.142857           NaN\n598    1     0  6.857143           NaN\n599    0     0  3.285714           NaN\n600    0     0  3.285714           NaN\n\n[597 rows x 4 columns]",
      "text/html": "<div>\n<style scoped>\n    .dataframe tbody tr th:only-of-type {\n        vertical-align: middle;\n    }\n\n    .dataframe tbody tr th {\n        vertical-align: top;\n    }\n\n    .dataframe thead th {\n        text-align: right;\n    }\n</style>\n<table border=\"1\" class=\"dataframe\">\n  <thead>\n    <tr style=\"text-align: right;\">\n      <th></th>\n      <th>a_0</th>\n      <th>oa_0</th>\n      <th>ow_0</th>\n      <th>reordered_ow</th>\n    </tr>\n  </thead>\n  <tbody>\n    <tr>\n      <th>0</th>\n      <td>1</td>\n      <td>1</td>\n      <td>3.428571</td>\n      <td>3.428571</td>\n    </tr>\n    <tr>\n      <th>1</th>\n      <td>0</td>\n      <td>0</td>\n      <td>4.000000</td>\n      <td>4.000000</td>\n    </tr>\n    <tr>\n      <th>2</th>\n      <td>1</td>\n      <td>1</td>\n      <td>7.000000</td>\n      <td>7.000000</td>\n    </tr>\n    <tr>\n      <th>3</th>\n      <td>0</td>\n      <td>1</td>\n      <td>6.571429</td>\n      <td>4.000000</td>\n    </tr>\n    <tr>\n      <th>4</th>\n      <td>1</td>\n      <td>0</td>\n      <td>4.000000</td>\n      <td>6.571429</td>\n    </tr>\n    <tr>\n      <th>...</th>\n      <td>...</td>\n      <td>...</td>\n      <td>...</td>\n      <td>...</td>\n    </tr>\n    <tr>\n      <th>596</th>\n      <td>0</td>\n      <td>1</td>\n      <td>4.571429</td>\n      <td>NaN</td>\n    </tr>\n    <tr>\n      <th>597</th>\n      <td>1</td>\n      <td>1</td>\n      <td>4.142857</td>\n      <td>NaN</td>\n    </tr>\n    <tr>\n      <th>598</th>\n      <td>1</td>\n      <td>0</td>\n      <td>6.857143</td>\n      <td>NaN</td>\n    </tr>\n    <tr>\n      <th>599</th>\n      <td>0</td>\n      <td>0</td>\n      <td>3.285714</td>\n      <td>NaN</td>\n    </tr>\n    <tr>\n      <th>600</th>\n      <td>0</td>\n      <td>0</td>\n      <td>3.285714</td>\n      <td>NaN</td>\n    </tr>\n  </tbody>\n</table>\n<p>597 rows × 4 columns</p>\n</div>"
     },
     "execution_count": 90,
     "metadata": {},
     "output_type": "execute_result"
    }
   ],
   "source": [
    "df_new\n"
   ],
   "metadata": {
    "collapsed": false
   }
  },
  {
   "cell_type": "code",
   "execution_count": 91,
   "outputs": [
    {
     "name": "stderr",
     "output_type": "stream",
     "text": [
      "/tmp/ipykernel_12573/2810640563.py:1: SettingWithCopyWarning: \n",
      "A value is trying to be set on a copy of a slice from a DataFrame.\n",
      "Try using .loc[row_indexer,col_indexer] = value instead\n",
      "\n",
      "See the caveats in the documentation: https://pandas.pydata.org/pandas-docs/stable/user_guide/indexing.html#returning-a-view-versus-a-copy\n",
      "  df_new.iloc[415:598,:]['reordered_ow'] = df_new.iloc[414:598,:]['ow_0']\n"
     ]
    }
   ],
   "source": [
    "df_new.iloc[415:598,:]['reordered_ow'] = df_new.iloc[414:598,:]['ow_0']"
   ],
   "metadata": {
    "collapsed": false
   }
  },
  {
   "cell_type": "code",
   "execution_count": 92,
   "outputs": [
    {
     "data": {
      "text/plain": "     a_0  oa_0      ow_0  reordered_ow\n0      1     1  3.428571      3.428571\n1      0     0  4.000000      4.000000\n2      1     1  7.000000      7.000000\n3      0     1  6.571429      4.000000\n4      1     0  4.000000      6.571429\n..   ...   ...       ...           ...\n596    0     1  4.571429      4.571429\n597    1     1  4.142857      4.142857\n598    1     0  6.857143      6.857143\n599    0     0  3.285714      3.285714\n600    0     0  3.285714      3.285714\n\n[597 rows x 4 columns]",
      "text/html": "<div>\n<style scoped>\n    .dataframe tbody tr th:only-of-type {\n        vertical-align: middle;\n    }\n\n    .dataframe tbody tr th {\n        vertical-align: top;\n    }\n\n    .dataframe thead th {\n        text-align: right;\n    }\n</style>\n<table border=\"1\" class=\"dataframe\">\n  <thead>\n    <tr style=\"text-align: right;\">\n      <th></th>\n      <th>a_0</th>\n      <th>oa_0</th>\n      <th>ow_0</th>\n      <th>reordered_ow</th>\n    </tr>\n  </thead>\n  <tbody>\n    <tr>\n      <th>0</th>\n      <td>1</td>\n      <td>1</td>\n      <td>3.428571</td>\n      <td>3.428571</td>\n    </tr>\n    <tr>\n      <th>1</th>\n      <td>0</td>\n      <td>0</td>\n      <td>4.000000</td>\n      <td>4.000000</td>\n    </tr>\n    <tr>\n      <th>2</th>\n      <td>1</td>\n      <td>1</td>\n      <td>7.000000</td>\n      <td>7.000000</td>\n    </tr>\n    <tr>\n      <th>3</th>\n      <td>0</td>\n      <td>1</td>\n      <td>6.571429</td>\n      <td>4.000000</td>\n    </tr>\n    <tr>\n      <th>4</th>\n      <td>1</td>\n      <td>0</td>\n      <td>4.000000</td>\n      <td>6.571429</td>\n    </tr>\n    <tr>\n      <th>...</th>\n      <td>...</td>\n      <td>...</td>\n      <td>...</td>\n      <td>...</td>\n    </tr>\n    <tr>\n      <th>596</th>\n      <td>0</td>\n      <td>1</td>\n      <td>4.571429</td>\n      <td>4.571429</td>\n    </tr>\n    <tr>\n      <th>597</th>\n      <td>1</td>\n      <td>1</td>\n      <td>4.142857</td>\n      <td>4.142857</td>\n    </tr>\n    <tr>\n      <th>598</th>\n      <td>1</td>\n      <td>0</td>\n      <td>6.857143</td>\n      <td>6.857143</td>\n    </tr>\n    <tr>\n      <th>599</th>\n      <td>0</td>\n      <td>0</td>\n      <td>3.285714</td>\n      <td>3.285714</td>\n    </tr>\n    <tr>\n      <th>600</th>\n      <td>0</td>\n      <td>0</td>\n      <td>3.285714</td>\n      <td>3.285714</td>\n    </tr>\n  </tbody>\n</table>\n<p>597 rows × 4 columns</p>\n</div>"
     },
     "execution_count": 92,
     "metadata": {},
     "output_type": "execute_result"
    }
   ],
   "source": [
    "df_new"
   ],
   "metadata": {
    "collapsed": false
   }
  },
  {
   "cell_type": "code",
   "execution_count": 46,
   "outputs": [
    {
     "name": "stdout",
     "output_type": "stream",
     "text": [
      "     a_0  oa_0      ow_0  reordered_ow\n",
      "0      1     1  3.428571      6.857143\n",
      "1      0     0  4.000000      3.285714\n",
      "2      1     1  7.000000      7.000000\n",
      "3      0     1  6.571429      4.000000\n",
      "4      1     0  4.000000      6.571429\n",
      "..   ...   ...       ...           ...\n",
      "596    0     1  4.571429      4.571429\n",
      "597    1     1  4.142857      4.142857\n",
      "598    1     0  6.857143      6.857143\n",
      "599    0     0  3.285714      3.285714\n",
      "600    0     0  3.285714      3.285714\n",
      "\n",
      "[597 rows x 4 columns]\n"
     ]
    }
   ],
   "source": [
    "print(df_new)"
   ],
   "metadata": {
    "collapsed": false
   }
  },
  {
   "cell_type": "code",
   "execution_count": 93,
   "outputs": [],
   "source": [
    "used_indices = []\n",
    "# loop through the rows and update the values of reordered_ow based on a_0 and reordered_ow\n",
    "for i in range(416, 597):\n",
    "    if df_new.iloc[i,:]['a_0'] == 1:\n",
    "        for j in range(0, 415):\n",
    "            if df_new.iloc[j,:]['a_0'] == 1 and j not in used_indices:\n",
    "                df_new.at[i,'reordered_ow']= df_new.iloc[j,:]['reordered_ow']\n",
    "                used_indices.append(j)\n",
    "                break\n",
    "    elif df_new.iloc[i,:]['a_0'] == 0:\n",
    "        for j in range(0, 415):\n",
    "            if df_new.iloc[j,:]['a_0'] == 0 and j not in used_indices:\n",
    "                df_new.at[i, 'reordered_ow']= df_new.iloc[j,:]['reordered_ow']\n",
    "                used_indices.append(j)\n",
    "                break"
   ],
   "metadata": {
    "collapsed": false
   }
  },
  {
   "cell_type": "code",
   "execution_count": 94,
   "outputs": [
    {
     "data": {
      "text/plain": "     a_0  oa_0      ow_0  reordered_ow\n0    1.0   1.0  3.428571      3.428571\n1    0.0   0.0  4.000000      4.000000\n2    1.0   1.0  7.000000      7.000000\n3    0.0   1.0  6.571429      4.000000\n4    1.0   0.0  4.000000      6.571429\n..   ...   ...       ...           ...\n598  1.0   0.0  6.857143      6.857143\n599  0.0   0.0  3.285714      3.285714\n600  0.0   0.0  3.285714      3.285714\n427  NaN   NaN       NaN      3.571429\n513  NaN   NaN       NaN      6.285714\n\n[599 rows x 4 columns]",
      "text/html": "<div>\n<style scoped>\n    .dataframe tbody tr th:only-of-type {\n        vertical-align: middle;\n    }\n\n    .dataframe tbody tr th {\n        vertical-align: top;\n    }\n\n    .dataframe thead th {\n        text-align: right;\n    }\n</style>\n<table border=\"1\" class=\"dataframe\">\n  <thead>\n    <tr style=\"text-align: right;\">\n      <th></th>\n      <th>a_0</th>\n      <th>oa_0</th>\n      <th>ow_0</th>\n      <th>reordered_ow</th>\n    </tr>\n  </thead>\n  <tbody>\n    <tr>\n      <th>0</th>\n      <td>1.0</td>\n      <td>1.0</td>\n      <td>3.428571</td>\n      <td>3.428571</td>\n    </tr>\n    <tr>\n      <th>1</th>\n      <td>0.0</td>\n      <td>0.0</td>\n      <td>4.000000</td>\n      <td>4.000000</td>\n    </tr>\n    <tr>\n      <th>2</th>\n      <td>1.0</td>\n      <td>1.0</td>\n      <td>7.000000</td>\n      <td>7.000000</td>\n    </tr>\n    <tr>\n      <th>3</th>\n      <td>0.0</td>\n      <td>1.0</td>\n      <td>6.571429</td>\n      <td>4.000000</td>\n    </tr>\n    <tr>\n      <th>4</th>\n      <td>1.0</td>\n      <td>0.0</td>\n      <td>4.000000</td>\n      <td>6.571429</td>\n    </tr>\n    <tr>\n      <th>...</th>\n      <td>...</td>\n      <td>...</td>\n      <td>...</td>\n      <td>...</td>\n    </tr>\n    <tr>\n      <th>598</th>\n      <td>1.0</td>\n      <td>0.0</td>\n      <td>6.857143</td>\n      <td>6.857143</td>\n    </tr>\n    <tr>\n      <th>599</th>\n      <td>0.0</td>\n      <td>0.0</td>\n      <td>3.285714</td>\n      <td>3.285714</td>\n    </tr>\n    <tr>\n      <th>600</th>\n      <td>0.0</td>\n      <td>0.0</td>\n      <td>3.285714</td>\n      <td>3.285714</td>\n    </tr>\n    <tr>\n      <th>427</th>\n      <td>NaN</td>\n      <td>NaN</td>\n      <td>NaN</td>\n      <td>3.571429</td>\n    </tr>\n    <tr>\n      <th>513</th>\n      <td>NaN</td>\n      <td>NaN</td>\n      <td>NaN</td>\n      <td>6.285714</td>\n    </tr>\n  </tbody>\n</table>\n<p>599 rows × 4 columns</p>\n</div>"
     },
     "execution_count": 94,
     "metadata": {},
     "output_type": "execute_result"
    }
   ],
   "source": [
    "df_new"
   ],
   "metadata": {
    "collapsed": false
   }
  },
  {
   "cell_type": "code",
   "execution_count": 79,
   "outputs": [],
   "source": [
    "col_list =  df_new['reordered_ow'].tolist()"
   ],
   "metadata": {
    "collapsed": false
   }
  },
  {
   "cell_type": "code",
   "execution_count": 81,
   "outputs": [
    {
     "name": "stdout",
     "output_type": "stream",
     "text": [
      "[5.428571428571429, 4.0, 7.0, 4.0, 6.571428571428571, 2.2857142857142856, 4.571428571428571, 3.0, 3.7142857142857144, 5.428571428571429, 6.142857142857143, 3.5714285714285716, 7.0, 2.857142857142857, 5.142857142857143, 3.7142857142857144, 3.7142857142857144, 5.142857142857143, 4.857142857142857, 6.714285714285714, 6.0, 5.0, 6.0, 5.0, 6.857142857142857, 5.285714285714286, 3.857142857142857, 5.285714285714286, 3.4285714285714284, 5.0, 4.285714285714286, 4.714285714285714, 5.0, 5.714285714285714, 5.571428571428571, 4.0, 6.142857142857143, 6.142857142857143, 4.285714285714286, 6.142857142857143, 4.0, 5.428571428571429, 4.0, 4.142857142857143, 6.857142857142857, 4.142857142857143, 5.428571428571429, 5.285714285714286, 3.2857142857142856, 5.428571428571429, 2.857142857142857, 4.857142857142857, 5.428571428571429, 3.2857142857142856, 6.142857142857143, 4.857142857142857, 5.285714285714286, 7.0, 4.571428571428571, 6.142857142857143, 6.142857142857143, 4.714285714285714, 5.857142857142857, 6.142857142857143, 6.0, 4.428571428571429, 2.2857142857142856, 5.857142857142857, 5.571428571428571, 4.285714285714286, 3.7142857142857144, 4.0, 2.2857142857142856, 2.2857142857142856, 6.0, 5.142857142857143, 5.857142857142857, 5.142857142857143, 5.714285714285714, 5.285714285714286, 5.142857142857143, 7.0, 5.857142857142857, 4.714285714285714, 7.0, 4.571428571428571, 3.5714285714285716, 3.2857142857142856, 4.142857142857143, 6.571428571428571, 6.285714285714286, 7.0, 4.714285714285714, 3.0, 4.714285714285714, 4.0, 4.142857142857143, 5.285714285714286, 4.571428571428571, 4.142857142857143, 4.857142857142857, 4.428571428571429, 5.857142857142857, 3.7142857142857144, 6.0, 4.285714285714286, 6.714285714285714, 5.714285714285714, 2.5714285714285716, 4.0, 6.285714285714286, 6.142857142857143, 2.857142857142857, 4.285714285714286, 5.142857142857143, 6.285714285714286, 6.0, 6.285714285714286, 3.0, 4.0, 7.0, 4.857142857142857, 4.571428571428571, 5.857142857142857, 4.0, 6.142857142857143, 5.571428571428571, 5.714285714285714, 5.142857142857143, 5.857142857142857, 4.857142857142857, 6.571428571428571, 5.142857142857143, 4.0, 4.285714285714286, 5.714285714285714, 4.142857142857143, 5.142857142857143, 4.0, 3.4285714285714284, 6.142857142857143, 7.0, 5.142857142857143, 5.0, 6.0, 5.142857142857143, 3.857142857142857, 5.142857142857143, 3.7142857142857144, 4.0, 6.285714285714286, 2.5714285714285716, 4.571428571428571, 5.428571428571429, 6.142857142857143, 2.5714285714285716, 4.571428571428571, 6.0, 6.571428571428571, 6.142857142857143, 4.714285714285714, 5.714285714285714, 5.571428571428571, 5.142857142857143, 4.0, 5.857142857142857, 5.571428571428571, 5.142857142857143, 3.5714285714285716, 6.857142857142857, 4.428571428571429, 4.714285714285714, 4.857142857142857, 7.0, 4.285714285714286, 7.0, 6.571428571428571, 5.857142857142857, 3.4285714285714284, 1.8571428571428572, 2.7142857142857144, 3.142857142857143, 4.142857142857143, 6.285714285714286, 3.7142857142857144, 6.0, 3.4285714285714284, 6.714285714285714, 3.7142857142857144, 4.714285714285714, 1.8571428571428572, 4.857142857142857, 6.0, 4.428571428571429, 4.142857142857143, 7.0, 5.571428571428571, 5.0, 6.571428571428571, 5.714285714285714, 3.857142857142857, 4.714285714285714, 6.0, 3.5714285714285716, 2.5714285714285716, 4.571428571428571, 5.285714285714286, 5.285714285714286, 3.7142857142857144, 4.714285714285714, 4.714285714285714, 3.0, 6.571428571428571, 4.571428571428571, 5.142857142857143, 6.714285714285714, 2.0, 3.857142857142857, 3.7142857142857144, 6.0, 3.4285714285714284, 3.857142857142857, 4.142857142857143, 5.0, 4.0, 3.857142857142857, 3.142857142857143, 4.571428571428571, 6.0, 5.285714285714286, 5.0, 6.571428571428571, 5.0, 5.571428571428571, 4.428571428571429, 4.142857142857143, 3.857142857142857, 5.714285714285714, 2.4285714285714284, 4.571428571428571, 3.0, 6.142857142857143, 5.142857142857143, 3.4285714285714284, 7.0, 6.571428571428571, 5.857142857142857, 4.714285714285714, 5.857142857142857, 1.8571428571428572, 6.714285714285714, 3.7142857142857144, 2.4285714285714284, 5.285714285714286, 4.857142857142857, 6.714285714285714, 5.0, 5.428571428571429, 3.0, 4.857142857142857, 2.142857142857143, 4.428571428571429, 4.571428571428571, 4.714285714285714, 3.7142857142857144, 7.0, 5.857142857142857, 5.857142857142857, 3.857142857142857, 2.857142857142857, 3.142857142857143, 6.571428571428571, 6.0, 5.142857142857143, 6.714285714285714, 4.0, 3.2857142857142856, 4.857142857142857, 5.142857142857143, 2.7142857142857144, 4.714285714285714, 4.142857142857143, 5.857142857142857, 1.7142857142857142, 4.857142857142857, 6.714285714285714, 6.0, 3.857142857142857, 4.857142857142857, 5.714285714285714, 3.7142857142857144, 4.285714285714286, 6.571428571428571, 5.428571428571429, 5.0, 3.0, 6.571428571428571, 5.571428571428571, 2.7142857142857144, 6.571428571428571, 4.714285714285714, 4.285714285714286, 4.714285714285714, 6.714285714285714, 5.285714285714286, 7.0, 5.571428571428571, 3.857142857142857, 6.0, 5.857142857142857, 5.0, 3.2857142857142856, 3.5714285714285716, 4.714285714285714, 4.857142857142857, 5.714285714285714, 6.714285714285714, 4.714285714285714, 4.714285714285714, 4.714285714285714, 4.714285714285714, 6.571428571428571, 6.714285714285714, 6.428571428571429, 4.428571428571429, 7.0, 6.428571428571429, 6.0, 7.0, 5.571428571428571, 4.714285714285714, 3.4285714285714284, 5.857142857142857, 3.142857142857143, 3.4285714285714284, 4.857142857142857, 5.285714285714286, 5.428571428571429, 2.4285714285714284, 5.0, 5.428571428571429, 5.428571428571429, 2.5714285714285716, 5.571428571428571, 6.428571428571429, 5.714285714285714, 5.428571428571429, 6.857142857142857, 5.0, 6.571428571428571, 7.0, 6.857142857142857, 4.857142857142857, 6.0, 4.428571428571429, 5.571428571428571, 6.285714285714286, 5.285714285714286, 4.142857142857143, 5.142857142857143, 6.571428571428571, 4.857142857142857, 4.142857142857143, 5.142857142857143, 6.428571428571429, 4.142857142857143, 6.428571428571429, 6.857142857142857, 6.428571428571429, 4.857142857142857, 6.857142857142857, 5.0, 4.857142857142857, 6.142857142857143, 6.428571428571429, 3.4285714285714284, 6.571428571428571, 2.857142857142857, 6.142857142857143, 5.857142857142857, 4.142857142857143, 6.142857142857143, 4.0, 5.714285714285714, 5.0, 4.571428571428571, 5.714285714285714, 4.0, 6.0, 6.571428571428571, 2.0, 6.428571428571429, 2.7142857142857144, 2.7142857142857144, 5.714285714285714, 4.285714285714286, 4.285714285714286, 4.857142857142857, 6.714285714285714, 4.571428571428571, 5.428571428571429, 3.857142857142857, 5.714285714285714, 6.142857142857143, 1.8571428571428572, 6.142857142857143, 4.142857142857143, 5.857142857142857, 5.714285714285714, 3.142857142857143, 4.285714285714286, 4.714285714285714, 5.428571428571429, 5.714285714285714, 5.428571428571429, 4.0, 7.0, 6.571428571428571, 4.0, 2.2857142857142856, 4.571428571428571, 3.7142857142857144, 5.428571428571429, 3.0, 6.142857142857143, 2.857142857142857, 7.0, 5.142857142857143, 3.7142857142857144, 3.7142857142857144, 4.857142857142857, 5.142857142857143, 6.0, 5.0, 5.285714285714286, 6.714285714285714, 3.4285714285714284, 5.0, 6.0, 5.0, 6.857142857142857, 5.285714285714286, 3.857142857142857, 4.714285714285714, 6.142857142857143, 4.285714285714286, 4.285714285714286, 4.0, 5.0, 5.714285714285714, 5.571428571428571, 4.0, 4.0, 6.142857142857143, 6.142857142857143, 5.428571428571429, 3.2857142857142856, 6.142857142857143, 5.428571428571429, 4.857142857142857, 4.142857142857143, 6.857142857142857, 4.142857142857143, 5.285714285714286, 5.428571428571429, 5.285714285714286, 5.857142857142857, 6.142857142857143, 3.2857142857142856, 2.857142857142857, 6.0, 4.857142857142857, 5.428571428571429, 2.2857142857142856, 7.0, 5.857142857142857, 2.2857142857142856, 4.571428571428571, 6.0, 6.142857142857143, 6.142857142857143, 5.857142857142857, 5.714285714285714, 4.714285714285714, 4.428571428571429, 5.571428571428571, 5.285714285714286, 7.0, 4.142857142857143, 6.571428571428571, 6.285714285714286, 4.285714285714286, 4.714285714285714, 3.7142857142857144, 4.142857142857143, 5.857142857142857, 4.0, 2.2857142857142856, 6.714285714285714, 5.714285714285714, 5.142857142857143, 5.142857142857143, 4.0, 5.142857142857143, 5.857142857142857, 4.714285714285714, 6.285714285714286, 6.142857142857143, 6.285714285714286, 6.0, 7.0, 4.571428571428571, 3.5714285714285716, 7.0, 3.2857142857142856, 4.857142857142857, 7.0, 3.0, 4.714285714285714, 4.0, 5.285714285714286, 5.857142857142857, 6.142857142857143, 4.571428571428571, 4.142857142857143, 5.714285714285714, 4.857142857142857, 4.428571428571429, 5.857142857142857, 4.857142857142857, 3.7142857142857144, 6.0, 4.285714285714286, 2.5714285714285716, 5.142857142857143, 2.857142857142857, 4.285714285714286, 5.714285714285714, 6.142857142857143, 7.0, 4.285714285714286, 5.142857142857143, 3.0, 5.142857142857143, 4.0, 5.0, 6.0, 6.285714285714286, 4.571428571428571, 4.571428571428571, 4.0, 5.571428571428571, 5.142857142857143, 6.571428571428571, 5.428571428571429, 4.0, 4.142857142857143, 6.142857142857143, 4.571428571428571, 5.142857142857143, 4.0, 6.0, 3.4285714285714284, 6.571428571428571, 6.142857142857143, 5.142857142857143, 5.714285714285714, 5.142857142857143, 4.0, 5.857142857142857, 3.857142857142857, 5.571428571428571, 6.857142857142857, 4.857142857142857, 5.142857142857143, 3.7142857142857144, 4.285714285714286, 7.0, 4.0, 6.571428571428571, 5.857142857142857, 3.142857142857143, 4.142857142857143, 2.5714285714285716, 2.5714285714285716, 4.714285714285714, 6.285714285714286, 6.714285714285714, 5.571428571428571, 4.857142857142857, 6.0, 5.142857142857143, 3.5714285714285716, 4.142857142857143, 6.857142857142857, 3.2857142857142856, 3.2857142857142856, 3.5714285714285716, 6.285714285714286]\n"
     ]
    }
   ],
   "source": [
    "print(col_list)"
   ],
   "metadata": {
    "collapsed": false
   }
  }
 ],
 "metadata": {
  "kernelspec": {
   "display_name": "Python 3",
   "language": "python",
   "name": "python3"
  },
  "language_info": {
   "codemirror_mode": {
    "name": "ipython",
    "version": 2
   },
   "file_extension": ".py",
   "mimetype": "text/x-python",
   "name": "python",
   "nbconvert_exporter": "python",
   "pygments_lexer": "ipython2",
   "version": "2.7.6"
  }
 },
 "nbformat": 4,
 "nbformat_minor": 0
}
