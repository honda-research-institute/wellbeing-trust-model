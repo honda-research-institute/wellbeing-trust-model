{
 "cells": [
  {
   "cell_type": "code",
   "execution_count": 16,
   "metadata": {
    "collapsed": true
   },
   "outputs": [],
   "source": [
    "import numpy as np\n",
    "import pandas as pd\n",
    "import itertools"
   ]
  },
  {
   "cell_type": "code",
   "execution_count": 2,
   "outputs": [
    {
     "name": "stderr",
     "output_type": "stream",
     "text": [
      "/home/zzahedi/project-wellbeing/data_preprocessing.py:235: SettingWithCopyWarning: \n",
      "A value is trying to be set on a copy of a slice from a DataFrame.\n",
      "Try using .loc[row_indexer,col_indexer] = value instead\n",
      "\n",
      "See the caveats in the documentation: https://pandas.pydata.org/pandas-docs/stable/user_guide/indexing.html#returning-a-view-versus-a-copy\n",
      "  df[\"1_total\"] = df.loc[:,\n",
      "/home/zzahedi/project-wellbeing/data_preprocessing.py:241: SettingWithCopyWarning: \n",
      "A value is trying to be set on a copy of a slice from a DataFrame.\n",
      "Try using .loc[row_indexer,col_indexer] = value instead\n",
      "\n",
      "See the caveats in the documentation: https://pandas.pydata.org/pandas-docs/stable/user_guide/indexing.html#returning-a-view-versus-a-copy\n",
      "  df[\"3_total\"] = df.loc[:,\n"
     ]
    }
   ],
   "source": [
    "from data_preprocessing import *\n",
    "folder_path = './Prolific/data_all/'\n",
    "main_survey_df = get_main_survey_data(folder_path)\n",
    "post_survey_df = get_post_survey_filter_only(folder_path)\n",
    "main_survey_done_df = main_survey_done_study(main_survey_df,post_survey_df)\n",
    "mean_wellbeing_robot(main_survey_done_df)\n",
    "mean_wellbeing_scooter(main_survey_done_df)\n",
    "df_with_turkid = make_df_participant_based(main_survey_done_df)"
   ],
   "metadata": {
    "collapsed": false
   }
  },
  {
   "cell_type": "code",
   "execution_count": 3,
   "outputs": [],
   "source": [
    "a1 = df_with_turkid['drive_name_0'].str[3]\n",
    "ow0 = df_with_turkid['3_total_0']\n",
    "ow1 = df_with_turkid['1_total_1']\n",
    "ow2 = df_with_turkid['3_total_1']\n",
    "oa2 = df_with_turkid['drive_name_1'].str[2]\n",
    "df = pd.concat([a1, oa2, ow0, ow1, ow2], axis=1)\n",
    "col = [\"a_1\", \"oa_2\", \"ow_0\", \"ow_1\", \"ow_2\"]\n",
    "df.columns = col\n",
    "for i in col:\n",
    "    df[i] = pd.to_numeric(df[i])\n",
    "\n",
    "# print((df.iloc[0:414,:]['a_0'] == 1).sum(), (df.iloc[0:414,:]['oa_0'] == 1).sum())\n",
    "# print(df_bn['a_0'], df_bn['oa_0'], df_bn['ow_1'])\n",
    "# print(df_bn['w_1'], df_bn['ow_1'])"
   ],
   "metadata": {
    "collapsed": false
   }
  },
  {
   "cell_type": "code",
   "execution_count": 4,
   "outputs": [
    {
     "name": "stdout",
     "output_type": "stream",
     "text": [
      "The largest slice where the number of 1's in both columns are equal is from index 3 to 244.\n"
     ]
    }
   ],
   "source": [
    "df['diff'] = df['a_1'] - df['oa_2']\n",
    "\n",
    "# compute the cumulative sum of the diff column\n",
    "indices = []\n",
    "for i in range(len(df)):\n",
    "    num_ones_col1 = df['a_1'].iloc[:i+1].sum()\n",
    "    num_ones_col2 = df['oa_2'].iloc[:i+1].sum()\n",
    "    if num_ones_col1 == num_ones_col2:\n",
    "        indices.append(i)\n",
    "\n",
    "# find the largest slice where the number of 1's in both columns are equal\n",
    "max_slice = (0, 0)\n",
    "for i in range(len(indices)):\n",
    "    for j in range(i+1, len(indices)):\n",
    "        start, end = indices[i], indices[j]\n",
    "        num_ones_col1 = df['a_1'].iloc[start:end+1].sum()\n",
    "        num_ones_col2 = df['oa_2'].iloc[start:end+1].sum()\n",
    "        if num_ones_col1 == num_ones_col2 and end-start > max_slice[1]-max_slice[0]:\n",
    "            max_slice = (start, end)\n",
    "\n",
    "# print the largest slice where the number of 1's in both columns are equal\n",
    "print(f\"The largest slice where the number of 1's in both columns are equal is from index {max_slice[0]} to {max_slice[1]}.\")"
   ],
   "metadata": {
    "collapsed": false
   }
  },
  {
   "cell_type": "code",
   "execution_count": 7,
   "outputs": [
    {
     "name": "stdout",
     "output_type": "stream",
     "text": [
      "119 119\n"
     ]
    }
   ],
   "source": [
    "print((df.iloc[3:245,:]['a_1'] == 1).sum(), (df.iloc[3:245,:]['oa_2'] == 1).sum())"
   ],
   "metadata": {
    "collapsed": false
   }
  },
  {
   "cell_type": "code",
   "execution_count": 8,
   "outputs": [
    {
     "name": "stdout",
     "output_type": "stream",
     "text": [
      "Slices where the number of 1's in both columns are equal:\n",
      "From index 3 to 244\n",
      "From index 4 to 244\n",
      "From index 5 to 244\n",
      "From index 11 to 244\n",
      "From index 15 to 244\n",
      "From index 3 to 213\n",
      "From index 3 to 212\n",
      "From index 4 to 213\n",
      "From index 3 to 211\n",
      "From index 4 to 212\n",
      "From index 5 to 213\n",
      "From index 3 to 210\n",
      "From index 4 to 211\n",
      "From index 5 to 212\n",
      "From index 3 to 209\n",
      "From index 4 to 210\n",
      "From index 5 to 211\n",
      "From index 3 to 208\n",
      "From index 4 to 209\n",
      "From index 5 to 210\n",
      "From index 4 to 208\n",
      "From index 5 to 209\n",
      "From index 5 to 208\n",
      "From index 11 to 213\n",
      "From index 11 to 212\n",
      "From index 11 to 211\n",
      "From index 11 to 210\n",
      "From index 11 to 209\n",
      "From index 15 to 213\n",
      "From index 3 to 200\n",
      "From index 11 to 208\n",
      "From index 15 to 212\n",
      "From index 3 to 199\n",
      "From index 4 to 200\n",
      "From index 15 to 211\n",
      "From index 48 to 244\n",
      "From index 4 to 199\n",
      "From index 5 to 200\n",
      "From index 15 to 210\n",
      "From index 5 to 199\n",
      "From index 15 to 209\n",
      "From index 15 to 208\n",
      "From index 11 to 200\n",
      "From index 11 to 199\n",
      "From index 15 to 200\n",
      "From index 15 to 199\n",
      "From index 3 to 174\n",
      "From index 4 to 174\n",
      "From index 3 to 172\n",
      "From index 5 to 174\n",
      "From index 4 to 172\n",
      "From index 5 to 172\n",
      "From index 48 to 213\n",
      "From index 48 to 212\n",
      "From index 11 to 174\n",
      "From index 48 to 211\n",
      "From index 48 to 210\n",
      "From index 11 to 172\n",
      "From index 48 to 209\n",
      "From index 48 to 208\n",
      "From index 15 to 174\n",
      "From index 15 to 172\n",
      "From index 48 to 200\n",
      "From index 48 to 199\n",
      "From index 3 to 151\n",
      "From index 4 to 151\n",
      "From index 5 to 151\n",
      "From index 11 to 151\n",
      "From index 3 to 142\n",
      "From index 4 to 142\n",
      "From index 3 to 140\n",
      "From index 5 to 142\n",
      "From index 4 to 140\n",
      "From index 15 to 151\n",
      "From index 3 to 138\n",
      "From index 5 to 140\n",
      "From index 4 to 138\n",
      "From index 5 to 138\n",
      "From index 11 to 142\n",
      "From index 11 to 140\n",
      "From index 11 to 138\n",
      "From index 15 to 142\n",
      "From index 48 to 174\n",
      "From index 15 to 140\n",
      "From index 48 to 172\n",
      "From index 15 to 138\n",
      "From index 48 to 151\n",
      "From index 48 to 142\n",
      "From index 48 to 140\n",
      "From index 48 to 138\n",
      "From index 3 to 48\n",
      "From index 3 to 47\n",
      "From index 4 to 48\n",
      "From index 200 to 244\n",
      "From index 4 to 47\n",
      "From index 5 to 48\n",
      "From index 5 to 47\n",
      "From index 11 to 48\n",
      "From index 11 to 47\n",
      "From index 209 to 244\n",
      "From index 210 to 244\n",
      "From index 15 to 48\n",
      "From index 211 to 244\n",
      "From index 15 to 47\n",
      "From index 212 to 244\n",
      "From index 213 to 244\n",
      "From index 200 to 213\n",
      "From index 3 to 15\n",
      "From index 200 to 212\n",
      "From index 3 to 14\n",
      "From index 4 to 15\n",
      "From index 200 to 211\n",
      "From index 4 to 14\n",
      "From index 5 to 15\n",
      "From index 200 to 210\n",
      "From index 5 to 14\n",
      "From index 200 to 209\n",
      "From index 3 to 11\n",
      "From index 200 to 208\n",
      "From index 3 to 10\n",
      "From index 4 to 11\n",
      "From index 4 to 10\n",
      "From index 5 to 11\n",
      "From index 3 to 8\n",
      "From index 5 to 10\n",
      "From index 4 to 8\n",
      "From index 11 to 15\n",
      "From index 209 to 213\n",
      "From index 5 to 8\n",
      "From index 11 to 14\n",
      "From index 209 to 212\n",
      "From index 210 to 213\n",
      "From index 3 to 5\n",
      "From index 209 to 211\n",
      "From index 210 to 212\n",
      "From index 211 to 213\n",
      "From index 3 to 4\n",
      "From index 4 to 5\n",
      "From index 209 to 210\n",
      "From index 210 to 211\n",
      "From index 211 to 212\n",
      "From index 212 to 213\n"
     ]
    }
   ],
   "source": [
    "indices = []\n",
    "for i in range(len(df)):\n",
    "    num_ones_col1 = df['a_1'].iloc[:i+1].sum()\n",
    "    num_ones_col2 = df['oa_2'].iloc[:i+1].sum()\n",
    "    if num_ones_col1 == num_ones_col2:\n",
    "        indices.append(i)\n",
    "\n",
    "# loop through all possible slices and print the ones where the number of 1's in both columns are equal\n",
    "slices = []\n",
    "for i in range(len(indices)):\n",
    "    for j in range(i+1, len(indices)):\n",
    "        start, end = indices[i], indices[j]\n",
    "        num_ones_col1 = df['a_1'].iloc[start:end+1].sum()\n",
    "        num_ones_col2 = df['oa_2'].iloc[start:end+1].sum()\n",
    "        if num_ones_col1 == num_ones_col2:\n",
    "            slices.append((start, end))\n",
    "\n",
    "# sort the slices by size (largest to smallest)\n",
    "slices.sort(key=lambda x: x[1]-x[0], reverse=True)\n",
    "\n",
    "# print the slices\n",
    "print(\"Slices where the number of 1's in both columns are equal:\")\n",
    "for slice in slices:\n",
    "    print(f\"From index {slice[0]} to {slice[1]}\")"
   ],
   "metadata": {
    "collapsed": false
   }
  },
  {
   "cell_type": "code",
   "execution_count": 9,
   "outputs": [
    {
     "name": "stderr",
     "output_type": "stream",
     "text": [
      "/tmp/ipykernel_4048933/1993335626.py:2: SettingWithCopyWarning: \n",
      "A value is trying to be set on a copy of a slice from a DataFrame.\n",
      "Try using .loc[row_indexer,col_indexer] = value instead\n",
      "\n",
      "See the caveats in the documentation: https://pandas.pydata.org/pandas-docs/stable/user_guide/indexing.html#returning-a-view-versus-a-copy\n",
      "  df1['ror_ow0'] = np.nan\n",
      "/tmp/ipykernel_4048933/1993335626.py:3: SettingWithCopyWarning: \n",
      "A value is trying to be set on a copy of a slice from a DataFrame.\n",
      "Try using .loc[row_indexer,col_indexer] = value instead\n",
      "\n",
      "See the caveats in the documentation: https://pandas.pydata.org/pandas-docs/stable/user_guide/indexing.html#returning-a-view-versus-a-copy\n",
      "  df1['ror_ow1'] = np.nan\n",
      "/tmp/ipykernel_4048933/1993335626.py:4: SettingWithCopyWarning: \n",
      "A value is trying to be set on a copy of a slice from a DataFrame.\n",
      "Try using .loc[row_indexer,col_indexer] = value instead\n",
      "\n",
      "See the caveats in the documentation: https://pandas.pydata.org/pandas-docs/stable/user_guide/indexing.html#returning-a-view-versus-a-copy\n",
      "  df1['ror_ow2'] = np.nan\n",
      "/home/zzahedi/project-wellbeing/envpgmpy/lib/python3.8/site-packages/pandas/core/indexing.py:1773: SettingWithCopyWarning: \n",
      "A value is trying to be set on a copy of a slice from a DataFrame.\n",
      "Try using .loc[row_indexer,col_indexer] = value instead\n",
      "\n",
      "See the caveats in the documentation: https://pandas.pydata.org/pandas-docs/stable/user_guide/indexing.html#returning-a-view-versus-a-copy\n",
      "  self._setitem_single_column(ilocs[0], value, pi)\n"
     ]
    }
   ],
   "source": [
    "df1 = df.iloc[3:245,:]\n",
    "df1['ror_ow0'] = np.nan\n",
    "df1['ror_ow1'] = np.nan\n",
    "df1['ror_ow2'] = np.nan\n",
    "\n",
    "# extract values where col2 is 1 and col1 is 1, assign to appropriate indices in new column\n",
    "df1.loc[(df['oa_2'] == 1) & (df1['a_1'] == 1), 'ror_ow0'] = df1.loc[(df1['oa_2'] == 1) & (df1['a_1'] == 1), 'ow_0'].values\n",
    "df1.loc[(df['oa_2'] == 1) & (df1['a_1'] == 1), 'ror_ow1'] = df1.loc[(df1['oa_2'] == 1) & (df1['a_1'] == 1), 'ow_1'].values\n",
    "df1.loc[(df['oa_2'] == 1) & (df1['a_1'] == 1), 'ror_ow2'] = df1.loc[(df1['oa_2'] == 1) & (df1['a_1'] == 1), 'ow_2'].values\n",
    "# extract values where col2 is 1 and col1 is 0, assign to appropriate indices in new column\n",
    "df1.loc[(df1['oa_2'] == 1) & (df1['a_1'] == 0), 'ror_ow0'] = df1.loc[(df1['oa_2'] == 0) & (df1['a_1'] == 1), 'ow_0'].values\n",
    "df1.loc[(df1['oa_2'] == 1) & (df1['a_1'] == 0), 'ror_ow1'] = df1.loc[(df1['oa_2'] == 0) & (df1['a_1'] == 1), 'ow_1'].values\n",
    "df1.loc[(df1['oa_2'] == 1) & (df1['a_1'] == 0), 'ror_ow2'] = df1.loc[(df1['oa_2'] == 0) & (df1['a_1'] == 1), 'ow_2'].values\n",
    "# extract values where col2 is 0 and col1 is 0, assign to appropriate indices in new column\n",
    "df1.loc[(df1['oa_2'] == 0) & (df1['a_1'] == 0), 'ror_ow0'] = df1.loc[(df1['oa_2'] == 0) & (df1['a_1'] == 0), 'ow_0'].values\n",
    "df1.loc[(df1['oa_2'] == 0) & (df1['a_1'] == 0), 'ror_ow1'] = df1.loc[(df1['oa_2'] == 0) & (df1['a_1'] == 0), 'ow_1'].values\n",
    "df1.loc[(df1['oa_2'] == 0) & (df1['a_1'] == 0), 'ror_ow2'] = df1.loc[(df1['oa_2'] == 0) & (df1['a_1'] == 0), 'ow_2'].values\n",
    "# extract values where col2 is 0 and col1 is 1, assign to appropriate indices in new column\n",
    "df1.loc[(df1['oa_2'] == 0) & (df1['a_1'] == 1), 'ror_ow0'] = df1.loc[(df1['oa_2'] == 1) & (df1['a_1'] == 0), 'ow_0'].values\n",
    "df1.loc[(df1['oa_2'] == 0) & (df1['a_1'] == 1), 'ror_ow1'] = df1.loc[(df1['oa_2'] == 1) & (df1['a_1'] == 0), 'ow_1'].values\n",
    "df1.loc[(df1['oa_2'] == 0) & (df1['a_1'] == 1), 'ror_ow2'] = df1.loc[(df1['oa_2'] == 1) & (df1['a_1'] == 0), 'ow_2'].values"
   ],
   "metadata": {
    "collapsed": false
   }
  },
  {
   "cell_type": "code",
   "execution_count": 18,
   "outputs": [
    {
     "data": {
      "text/plain": "     a_1  oa_2      ow_0      ow_1      ow_2  diff\n0      0     1  3.428571  4.285714  3.428571    -1\n1      0     0  2.714286  2.714286  2.714286     0\n2      1     0  5.714286  5.285714  4.857143     1\n3      1     1  6.142857  6.285714  5.714286     0\n4      1     1  4.142857  5.000000  5.000000     0\n..   ...   ...       ...       ...       ...   ...\n294    0     1  5.571429  5.857143  5.285714    -1\n295    0     1  4.000000  5.571429  6.714286    -1\n296    0     0  5.000000  3.571429  4.714286     0\n297    1     1  6.714286  6.714286  5.142857     0\n298    1     0  5.714286  6.000000  3.285714     1\n\n[299 rows x 6 columns]",
      "text/html": "<div>\n<style scoped>\n    .dataframe tbody tr th:only-of-type {\n        vertical-align: middle;\n    }\n\n    .dataframe tbody tr th {\n        vertical-align: top;\n    }\n\n    .dataframe thead th {\n        text-align: right;\n    }\n</style>\n<table border=\"1\" class=\"dataframe\">\n  <thead>\n    <tr style=\"text-align: right;\">\n      <th></th>\n      <th>a_1</th>\n      <th>oa_2</th>\n      <th>ow_0</th>\n      <th>ow_1</th>\n      <th>ow_2</th>\n      <th>diff</th>\n    </tr>\n  </thead>\n  <tbody>\n    <tr>\n      <th>0</th>\n      <td>0</td>\n      <td>1</td>\n      <td>3.428571</td>\n      <td>4.285714</td>\n      <td>3.428571</td>\n      <td>-1</td>\n    </tr>\n    <tr>\n      <th>1</th>\n      <td>0</td>\n      <td>0</td>\n      <td>2.714286</td>\n      <td>2.714286</td>\n      <td>2.714286</td>\n      <td>0</td>\n    </tr>\n    <tr>\n      <th>2</th>\n      <td>1</td>\n      <td>0</td>\n      <td>5.714286</td>\n      <td>5.285714</td>\n      <td>4.857143</td>\n      <td>1</td>\n    </tr>\n    <tr>\n      <th>3</th>\n      <td>1</td>\n      <td>1</td>\n      <td>6.142857</td>\n      <td>6.285714</td>\n      <td>5.714286</td>\n      <td>0</td>\n    </tr>\n    <tr>\n      <th>4</th>\n      <td>1</td>\n      <td>1</td>\n      <td>4.142857</td>\n      <td>5.000000</td>\n      <td>5.000000</td>\n      <td>0</td>\n    </tr>\n    <tr>\n      <th>...</th>\n      <td>...</td>\n      <td>...</td>\n      <td>...</td>\n      <td>...</td>\n      <td>...</td>\n      <td>...</td>\n    </tr>\n    <tr>\n      <th>294</th>\n      <td>0</td>\n      <td>1</td>\n      <td>5.571429</td>\n      <td>5.857143</td>\n      <td>5.285714</td>\n      <td>-1</td>\n    </tr>\n    <tr>\n      <th>295</th>\n      <td>0</td>\n      <td>1</td>\n      <td>4.000000</td>\n      <td>5.571429</td>\n      <td>6.714286</td>\n      <td>-1</td>\n    </tr>\n    <tr>\n      <th>296</th>\n      <td>0</td>\n      <td>0</td>\n      <td>5.000000</td>\n      <td>3.571429</td>\n      <td>4.714286</td>\n      <td>0</td>\n    </tr>\n    <tr>\n      <th>297</th>\n      <td>1</td>\n      <td>1</td>\n      <td>6.714286</td>\n      <td>6.714286</td>\n      <td>5.142857</td>\n      <td>0</td>\n    </tr>\n    <tr>\n      <th>298</th>\n      <td>1</td>\n      <td>0</td>\n      <td>5.714286</td>\n      <td>6.000000</td>\n      <td>3.285714</td>\n      <td>1</td>\n    </tr>\n  </tbody>\n</table>\n<p>299 rows × 6 columns</p>\n</div>"
     },
     "execution_count": 18,
     "metadata": {},
     "output_type": "execute_result"
    }
   ],
   "source": [
    "df"
   ],
   "metadata": {
    "collapsed": false
   }
  },
  {
   "cell_type": "code",
   "execution_count": 14,
   "outputs": [
    {
     "name": "stderr",
     "output_type": "stream",
     "text": [
      "/tmp/ipykernel_4048933/338939879.py:2: SettingWithCopyWarning: \n",
      "A value is trying to be set on a copy of a slice from a DataFrame.\n",
      "Try using .loc[row_indexer,col_indexer] = value instead\n",
      "\n",
      "See the caveats in the documentation: https://pandas.pydata.org/pandas-docs/stable/user_guide/indexing.html#returning-a-view-versus-a-copy\n",
      "  df_new.iloc[0:3,:]['ror_ow0'] = df_new.iloc[0:3,:]['ow_0']\n",
      "/tmp/ipykernel_4048933/338939879.py:3: SettingWithCopyWarning: \n",
      "A value is trying to be set on a copy of a slice from a DataFrame.\n",
      "Try using .loc[row_indexer,col_indexer] = value instead\n",
      "\n",
      "See the caveats in the documentation: https://pandas.pydata.org/pandas-docs/stable/user_guide/indexing.html#returning-a-view-versus-a-copy\n",
      "  df_new.iloc[0:3,:]['ror_ow1'] = df_new.iloc[0:3,:]['ow_1']\n",
      "/tmp/ipykernel_4048933/338939879.py:4: SettingWithCopyWarning: \n",
      "A value is trying to be set on a copy of a slice from a DataFrame.\n",
      "Try using .loc[row_indexer,col_indexer] = value instead\n",
      "\n",
      "See the caveats in the documentation: https://pandas.pydata.org/pandas-docs/stable/user_guide/indexing.html#returning-a-view-versus-a-copy\n",
      "  df_new.iloc[0:3,:]['ror_ow2'] = df_new.iloc[0:3,:]['ow_2']\n",
      "/tmp/ipykernel_4048933/338939879.py:5: SettingWithCopyWarning: \n",
      "A value is trying to be set on a copy of a slice from a DataFrame.\n",
      "Try using .loc[row_indexer,col_indexer] = value instead\n",
      "\n",
      "See the caveats in the documentation: https://pandas.pydata.org/pandas-docs/stable/user_guide/indexing.html#returning-a-view-versus-a-copy\n",
      "  df_new.iloc[245:301,:]['ror_ow0'] = df_new.iloc[245:301,:]['ow_0']\n",
      "/tmp/ipykernel_4048933/338939879.py:6: SettingWithCopyWarning: \n",
      "A value is trying to be set on a copy of a slice from a DataFrame.\n",
      "Try using .loc[row_indexer,col_indexer] = value instead\n",
      "\n",
      "See the caveats in the documentation: https://pandas.pydata.org/pandas-docs/stable/user_guide/indexing.html#returning-a-view-versus-a-copy\n",
      "  df_new.iloc[245:301,:]['ror_ow1'] = df_new.iloc[245:301,:]['ow_1']\n",
      "/tmp/ipykernel_4048933/338939879.py:7: SettingWithCopyWarning: \n",
      "A value is trying to be set on a copy of a slice from a DataFrame.\n",
      "Try using .loc[row_indexer,col_indexer] = value instead\n",
      "\n",
      "See the caveats in the documentation: https://pandas.pydata.org/pandas-docs/stable/user_guide/indexing.html#returning-a-view-versus-a-copy\n",
      "  df_new.iloc[245:301,:]['ror_ow2'] = df_new.iloc[245:301,:]['ow_2']\n"
     ]
    }
   ],
   "source": [
    "df_new = pd.concat([df.iloc[0:3,:], df1, df.iloc[245:301,:]], axis = 0)\n",
    "df_new.iloc[0:3,:]['ror_ow0'] = df_new.iloc[0:3,:]['ow_0']\n",
    "df_new.iloc[0:3,:]['ror_ow1'] = df_new.iloc[0:3,:]['ow_1']\n",
    "df_new.iloc[0:3,:]['ror_ow2'] = df_new.iloc[0:3,:]['ow_2']\n",
    "df_new.iloc[245:301,:]['ror_ow0'] = df_new.iloc[245:301,:]['ow_0']\n",
    "df_new.iloc[245:301,:]['ror_ow1'] = df_new.iloc[245:301,:]['ow_1']\n",
    "df_new.iloc[245:301,:]['ror_ow2'] = df_new.iloc[245:301,:]['ow_2']"
   ],
   "metadata": {
    "collapsed": false
   }
  },
  {
   "cell_type": "code",
   "execution_count": 15,
   "outputs": [
    {
     "data": {
      "text/plain": "     a_1  oa_2      ow_0      ow_1      ow_2  diff   ror_ow0   ror_ow1  \\\n0      0     1  3.428571  4.285714  3.428571    -1  3.428571  4.285714   \n1      0     0  2.714286  2.714286  2.714286     0  2.714286  2.714286   \n2      1     0  5.714286  5.285714  4.857143     1  5.714286  5.285714   \n3      1     1  6.142857  6.285714  5.714286     0  6.142857  6.285714   \n4      1     1  4.142857  5.000000  5.000000     0  4.142857  5.000000   \n..   ...   ...       ...       ...       ...   ...       ...       ...   \n294    0     1  5.571429  5.857143  5.285714    -1  5.571429  5.857143   \n295    0     1  4.000000  5.571429  6.714286    -1  4.000000  5.571429   \n296    0     0  5.000000  3.571429  4.714286     0  5.000000  3.571429   \n297    1     1  6.714286  6.714286  5.142857     0  6.714286  6.714286   \n298    1     0  5.714286  6.000000  3.285714     1  5.714286  6.000000   \n\n      ror_ow2  \n0    3.428571  \n1    2.714286  \n2    4.857143  \n3    5.714286  \n4    5.000000  \n..        ...  \n294  5.285714  \n295  6.714286  \n296  4.714286  \n297  5.142857  \n298  3.285714  \n\n[299 rows x 9 columns]",
      "text/html": "<div>\n<style scoped>\n    .dataframe tbody tr th:only-of-type {\n        vertical-align: middle;\n    }\n\n    .dataframe tbody tr th {\n        vertical-align: top;\n    }\n\n    .dataframe thead th {\n        text-align: right;\n    }\n</style>\n<table border=\"1\" class=\"dataframe\">\n  <thead>\n    <tr style=\"text-align: right;\">\n      <th></th>\n      <th>a_1</th>\n      <th>oa_2</th>\n      <th>ow_0</th>\n      <th>ow_1</th>\n      <th>ow_2</th>\n      <th>diff</th>\n      <th>ror_ow0</th>\n      <th>ror_ow1</th>\n      <th>ror_ow2</th>\n    </tr>\n  </thead>\n  <tbody>\n    <tr>\n      <th>0</th>\n      <td>0</td>\n      <td>1</td>\n      <td>3.428571</td>\n      <td>4.285714</td>\n      <td>3.428571</td>\n      <td>-1</td>\n      <td>3.428571</td>\n      <td>4.285714</td>\n      <td>3.428571</td>\n    </tr>\n    <tr>\n      <th>1</th>\n      <td>0</td>\n      <td>0</td>\n      <td>2.714286</td>\n      <td>2.714286</td>\n      <td>2.714286</td>\n      <td>0</td>\n      <td>2.714286</td>\n      <td>2.714286</td>\n      <td>2.714286</td>\n    </tr>\n    <tr>\n      <th>2</th>\n      <td>1</td>\n      <td>0</td>\n      <td>5.714286</td>\n      <td>5.285714</td>\n      <td>4.857143</td>\n      <td>1</td>\n      <td>5.714286</td>\n      <td>5.285714</td>\n      <td>4.857143</td>\n    </tr>\n    <tr>\n      <th>3</th>\n      <td>1</td>\n      <td>1</td>\n      <td>6.142857</td>\n      <td>6.285714</td>\n      <td>5.714286</td>\n      <td>0</td>\n      <td>6.142857</td>\n      <td>6.285714</td>\n      <td>5.714286</td>\n    </tr>\n    <tr>\n      <th>4</th>\n      <td>1</td>\n      <td>1</td>\n      <td>4.142857</td>\n      <td>5.000000</td>\n      <td>5.000000</td>\n      <td>0</td>\n      <td>4.142857</td>\n      <td>5.000000</td>\n      <td>5.000000</td>\n    </tr>\n    <tr>\n      <th>...</th>\n      <td>...</td>\n      <td>...</td>\n      <td>...</td>\n      <td>...</td>\n      <td>...</td>\n      <td>...</td>\n      <td>...</td>\n      <td>...</td>\n      <td>...</td>\n    </tr>\n    <tr>\n      <th>294</th>\n      <td>0</td>\n      <td>1</td>\n      <td>5.571429</td>\n      <td>5.857143</td>\n      <td>5.285714</td>\n      <td>-1</td>\n      <td>5.571429</td>\n      <td>5.857143</td>\n      <td>5.285714</td>\n    </tr>\n    <tr>\n      <th>295</th>\n      <td>0</td>\n      <td>1</td>\n      <td>4.000000</td>\n      <td>5.571429</td>\n      <td>6.714286</td>\n      <td>-1</td>\n      <td>4.000000</td>\n      <td>5.571429</td>\n      <td>6.714286</td>\n    </tr>\n    <tr>\n      <th>296</th>\n      <td>0</td>\n      <td>0</td>\n      <td>5.000000</td>\n      <td>3.571429</td>\n      <td>4.714286</td>\n      <td>0</td>\n      <td>5.000000</td>\n      <td>3.571429</td>\n      <td>4.714286</td>\n    </tr>\n    <tr>\n      <th>297</th>\n      <td>1</td>\n      <td>1</td>\n      <td>6.714286</td>\n      <td>6.714286</td>\n      <td>5.142857</td>\n      <td>0</td>\n      <td>6.714286</td>\n      <td>6.714286</td>\n      <td>5.142857</td>\n    </tr>\n    <tr>\n      <th>298</th>\n      <td>1</td>\n      <td>0</td>\n      <td>5.714286</td>\n      <td>6.000000</td>\n      <td>3.285714</td>\n      <td>1</td>\n      <td>5.714286</td>\n      <td>6.000000</td>\n      <td>3.285714</td>\n    </tr>\n  </tbody>\n</table>\n<p>299 rows × 9 columns</p>\n</div>"
     },
     "execution_count": 15,
     "metadata": {},
     "output_type": "execute_result"
    }
   ],
   "source": [
    "df_new"
   ],
   "metadata": {
    "collapsed": false
   }
  },
  {
   "cell_type": "code",
   "execution_count": 20,
   "outputs": [],
   "source": [
    "used_indices = []\n",
    "# loop through the rows and update the values of reordered_ow based on a_0 and reordered_ow\n",
    "for i in itertools.chain(range(0, 3), range(245, 299)):\n",
    "    if df_new.iloc[i,:]['a_1'] == 1:\n",
    "        for j in range(3, 245):\n",
    "            if df_new.iloc[j,:]['a_1'] == 1 and j not in used_indices:\n",
    "                df_new.at[i,'ror_ow0']= df_new.iloc[j,:]['ror_ow0']\n",
    "                df_new.at[i,'ror_ow1']= df_new.iloc[j,:]['ror_ow1']\n",
    "                df_new.at[i,'ror_ow2']= df_new.iloc[j,:]['ror_ow2']\n",
    "                used_indices.append(j)\n",
    "                break\n",
    "    elif df_new.iloc[i,:]['a_1'] == 0:\n",
    "        for j in range(3, 245):\n",
    "            if df_new.iloc[j,:]['a_1'] == 0 and j not in used_indices:\n",
    "                df_new.at[i,'ror_ow0']= df_new.iloc[j,:]['ror_ow0']\n",
    "                df_new.at[i,'ror_ow1']= df_new.iloc[j,:]['ror_ow1']\n",
    "                df_new.at[i,'ror_ow2']= df_new.iloc[j,:]['ror_ow2']\n",
    "                used_indices.append(j)\n",
    "                break"
   ],
   "metadata": {
    "collapsed": false
   }
  },
  {
   "cell_type": "code",
   "execution_count": 21,
   "outputs": [
    {
     "data": {
      "text/plain": "     a_1  oa_2      ow_0      ow_1      ow_2  diff   ror_ow0   ror_ow1  \\\n0      0     1  3.428571  4.285714  3.428571    -1  3.428571  5.000000   \n1      0     0  2.714286  2.714286  2.714286     0  5.571429  2.142857   \n2      1     0  5.714286  5.285714  4.857143     1  6.142857  6.285714   \n3      1     1  6.142857  6.285714  5.714286     0  6.142857  6.285714   \n4      1     1  4.142857  5.000000  5.000000     0  4.142857  5.000000   \n..   ...   ...       ...       ...       ...   ...       ...       ...   \n294    0     1  5.571429  5.857143  5.285714    -1  5.571429  3.714286   \n295    0     1  4.000000  5.571429  6.714286    -1  3.571429  2.000000   \n296    0     0  5.000000  3.571429  4.714286     0  3.285714  3.285714   \n297    1     1  6.714286  6.714286  5.142857     0  4.714286  5.000000   \n298    1     0  5.714286  6.000000  3.285714     1  2.285714  3.857143   \n\n      ror_ow2  \n0    4.714286  \n1    1.857143  \n2    5.714286  \n3    5.714286  \n4    5.000000  \n..        ...  \n294  3.571429  \n295  4.000000  \n296  3.285714  \n297  5.142857  \n298  3.142857  \n\n[299 rows x 9 columns]",
      "text/html": "<div>\n<style scoped>\n    .dataframe tbody tr th:only-of-type {\n        vertical-align: middle;\n    }\n\n    .dataframe tbody tr th {\n        vertical-align: top;\n    }\n\n    .dataframe thead th {\n        text-align: right;\n    }\n</style>\n<table border=\"1\" class=\"dataframe\">\n  <thead>\n    <tr style=\"text-align: right;\">\n      <th></th>\n      <th>a_1</th>\n      <th>oa_2</th>\n      <th>ow_0</th>\n      <th>ow_1</th>\n      <th>ow_2</th>\n      <th>diff</th>\n      <th>ror_ow0</th>\n      <th>ror_ow1</th>\n      <th>ror_ow2</th>\n    </tr>\n  </thead>\n  <tbody>\n    <tr>\n      <th>0</th>\n      <td>0</td>\n      <td>1</td>\n      <td>3.428571</td>\n      <td>4.285714</td>\n      <td>3.428571</td>\n      <td>-1</td>\n      <td>3.428571</td>\n      <td>5.000000</td>\n      <td>4.714286</td>\n    </tr>\n    <tr>\n      <th>1</th>\n      <td>0</td>\n      <td>0</td>\n      <td>2.714286</td>\n      <td>2.714286</td>\n      <td>2.714286</td>\n      <td>0</td>\n      <td>5.571429</td>\n      <td>2.142857</td>\n      <td>1.857143</td>\n    </tr>\n    <tr>\n      <th>2</th>\n      <td>1</td>\n      <td>0</td>\n      <td>5.714286</td>\n      <td>5.285714</td>\n      <td>4.857143</td>\n      <td>1</td>\n      <td>6.142857</td>\n      <td>6.285714</td>\n      <td>5.714286</td>\n    </tr>\n    <tr>\n      <th>3</th>\n      <td>1</td>\n      <td>1</td>\n      <td>6.142857</td>\n      <td>6.285714</td>\n      <td>5.714286</td>\n      <td>0</td>\n      <td>6.142857</td>\n      <td>6.285714</td>\n      <td>5.714286</td>\n    </tr>\n    <tr>\n      <th>4</th>\n      <td>1</td>\n      <td>1</td>\n      <td>4.142857</td>\n      <td>5.000000</td>\n      <td>5.000000</td>\n      <td>0</td>\n      <td>4.142857</td>\n      <td>5.000000</td>\n      <td>5.000000</td>\n    </tr>\n    <tr>\n      <th>...</th>\n      <td>...</td>\n      <td>...</td>\n      <td>...</td>\n      <td>...</td>\n      <td>...</td>\n      <td>...</td>\n      <td>...</td>\n      <td>...</td>\n      <td>...</td>\n    </tr>\n    <tr>\n      <th>294</th>\n      <td>0</td>\n      <td>1</td>\n      <td>5.571429</td>\n      <td>5.857143</td>\n      <td>5.285714</td>\n      <td>-1</td>\n      <td>5.571429</td>\n      <td>3.714286</td>\n      <td>3.571429</td>\n    </tr>\n    <tr>\n      <th>295</th>\n      <td>0</td>\n      <td>1</td>\n      <td>4.000000</td>\n      <td>5.571429</td>\n      <td>6.714286</td>\n      <td>-1</td>\n      <td>3.571429</td>\n      <td>2.000000</td>\n      <td>4.000000</td>\n    </tr>\n    <tr>\n      <th>296</th>\n      <td>0</td>\n      <td>0</td>\n      <td>5.000000</td>\n      <td>3.571429</td>\n      <td>4.714286</td>\n      <td>0</td>\n      <td>3.285714</td>\n      <td>3.285714</td>\n      <td>3.285714</td>\n    </tr>\n    <tr>\n      <th>297</th>\n      <td>1</td>\n      <td>1</td>\n      <td>6.714286</td>\n      <td>6.714286</td>\n      <td>5.142857</td>\n      <td>0</td>\n      <td>4.714286</td>\n      <td>5.000000</td>\n      <td>5.142857</td>\n    </tr>\n    <tr>\n      <th>298</th>\n      <td>1</td>\n      <td>0</td>\n      <td>5.714286</td>\n      <td>6.000000</td>\n      <td>3.285714</td>\n      <td>1</td>\n      <td>2.285714</td>\n      <td>3.857143</td>\n      <td>3.142857</td>\n    </tr>\n  </tbody>\n</table>\n<p>299 rows × 9 columns</p>\n</div>"
     },
     "execution_count": 21,
     "metadata": {},
     "output_type": "execute_result"
    }
   ],
   "source": [
    "df_new"
   ],
   "metadata": {
    "collapsed": false
   }
  },
  {
   "cell_type": "code",
   "execution_count": 23,
   "outputs": [],
   "source": [
    "df_new.to_csv('swap_action_3seq.csv')"
   ],
   "metadata": {
    "collapsed": false
   }
  },
  {
   "cell_type": "code",
   "execution_count": null,
   "outputs": [],
   "source": [],
   "metadata": {
    "collapsed": false
   }
  },
  {
   "cell_type": "code",
   "execution_count": null,
   "outputs": [],
   "source": [],
   "metadata": {
    "collapsed": false
   }
  }
 ],
 "metadata": {
  "kernelspec": {
   "display_name": "Python 3",
   "language": "python",
   "name": "python3"
  },
  "language_info": {
   "codemirror_mode": {
    "name": "ipython",
    "version": 2
   },
   "file_extension": ".py",
   "mimetype": "text/x-python",
   "name": "python",
   "nbconvert_exporter": "python",
   "pygments_lexer": "ipython2",
   "version": "2.7.6"
  }
 },
 "nbformat": 4,
 "nbformat_minor": 0
}
